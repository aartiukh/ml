{
 "cells": [
  {
   "cell_type": "markdown",
   "metadata": {
    "colab_type": "text",
    "id": "qox4IuP8sevG"
   },
   "source": [
    "# Знайомство з мовою Python\n",
    "\n",
    "Реалізувати клас, який дозволить \n",
    "\n",
    "1. зберігати/зчитувати інформацію про автомобілі та їх власників в текстовому файлі;\n",
    "2. додавати/видаляти дані за прізвищем власника;\n",
    "3. знаходити за номером авто ПІБ власника.\n",
    "\n",
    "Вважати, що у одного власника може бути тільки один автомобіль.\n"
   ]
  },
  {
   "cell_type": "code",
   "execution_count": 3,
   "metadata": {
    "colab": {},
    "colab_type": "code",
    "id": "pSXtK_YSsacI"
   },
   "outputs": [],
   "source": [
    "class Driver:\n",
    "    \"\"\"\n",
    "    Allows to store information about car driver\n",
    "    \n",
    "    Attributes:\n",
    "        name : str\n",
    "            the name of the driver\n",
    "        car_number : str\n",
    "            the car number\n",
    "\n",
    "    Methods:\n",
    "        get_name()\n",
    "            Returns driver's name\n",
    "        get_car_number()\n",
    "            Returns driver's car number\n",
    "    \"\"\"\n",
    "\n",
    "    def __init__(self, name, car_number):\n",
    "        \"\"\"\n",
    "        Parameters:\n",
    "            name : str\n",
    "                the name of the driver\n",
    "            car_number : str\n",
    "                the car number\n",
    "        \"\"\"\n",
    "        \n",
    "        self._name = name\n",
    "        self._car_number = car_number\n",
    "    \n",
    "    \n",
    "    def get_name(self):\n",
    "        \"\"\" Returns driver's name \"\"\"\n",
    "        \n",
    "        return self._name\n",
    "    \n",
    "    \n",
    "    def get_car_number(self):\n",
    "        \"\"\" Returns driver's car number \"\"\"\n",
    "        \n",
    "        return self._car_number"
   ]
  },
  {
   "cell_type": "code",
   "execution_count": 68,
   "metadata": {
    "colab": {},
    "colab_type": "code",
    "id": "ziielNkr3uMR"
   },
   "outputs": [],
   "source": [
    "import pandas as pd\n",
    "\n",
    "class DriversDB:\n",
    "    \"\"\"\n",
    "    Allows to store information about car drivers in a data base (pandas.DataFrame)\n",
    "    \n",
    "    Attributes:\n",
    "        name : str\n",
    "            the DB name, will be used for DB file name\n",
    "\n",
    "    Methods:\n",
    "        get_name()\n",
    "            Returns DB name\n",
    "        add()\n",
    "            Adds a driver to DB\n",
    "        remove(driver_name)\n",
    "            Removes the driver from DB\n",
    "        print_head()\n",
    "            Prints DB head \n",
    "        save()\n",
    "            Saves DB to txt file\n",
    "        drop()\n",
    "            Removes all records from the DB\n",
    "        load()\n",
    "            Loads the DB from the txt file \n",
    "        find()\n",
    "            Returns the name of the car owner by car number \n",
    "    \"\"\"\n",
    "    \n",
    "    def __init__(self, db_name):\n",
    "        \"\"\"\n",
    "        Parameters:\n",
    "            db_name : str\n",
    "                the DB name, will be used for DB file name\n",
    "        \"\"\"\n",
    "        \n",
    "        self._db_name = db_name\n",
    "        self._db = pd.DataFrame(columns=['Name', 'CarNumber'])\n",
    "\n",
    "        \n",
    "    def get_name(self):\n",
    "        \"\"\" Returns DB name \"\"\"\n",
    "        \n",
    "        return self._db_name\n",
    "   \n",
    "\n",
    "    def add(self, driver):\n",
    "        \"\"\" Adds a driver to DB \n",
    "        \n",
    "        Parameters:\n",
    "            driver : Driver\n",
    "                a driver to be added to DB\n",
    "        \"\"\"\n",
    "        \n",
    "        self._db = self._db.append({'Name' : driver.get_name(),\n",
    "                                    'CarNumber' : driver.get_car_number()}, \n",
    "                                    ignore_index=True)\n",
    "     \n",
    "    \n",
    "    def remove(self, driver_name):\n",
    "        \"\"\" Removes the driver from DB \n",
    "        \n",
    "        Parameters:\n",
    "            driver_name : str\n",
    "                the driver's name to be removed from DB\n",
    "        \"\"\"\n",
    "        \n",
    "        self._db = self._db[self._db.Name != driver_name]     \n",
    "       \n",
    "    \n",
    "    def print_head(self):\n",
    "        \"\"\" Prints DB head \"\"\"\n",
    "        \n",
    "        print(self._db.head())\n",
    "     \n",
    "    \n",
    "    def save(self):\n",
    "        \"\"\" Saves DB to the txt file \"\"\"\n",
    "        \n",
    "        self._db.to_csv(self._db_name + '.txt', index=None, sep=' ')\n",
    "        \n",
    "    def drop(self):\n",
    "        \"\"\" Removes all records from the DB \"\"\"\n",
    "        \n",
    "        self._db.drop(self._db.index, inplace=True)\n",
    "        \n",
    "    def load(self, path=None):\n",
    "        \"\"\" Loads the DB from the txt file \n",
    "        \n",
    "        Parameters:\n",
    "            path : str\n",
    "                A path to the txt file.\n",
    "        \"\"\"\n",
    "        \n",
    "        if path is None:\n",
    "            path = '{}.txt'.format(self._db_name)\n",
    "        \n",
    "        self._db = pd.read_csv(path, sep=' ')\n",
    "        \n",
    "    def find(self, car_number):\n",
    "        \"\"\" Returns the name of the car owner by car number \n",
    "        \n",
    "        Parameters:\n",
    "            car_number : str\n",
    "               A number of the car.\n",
    "        \"\"\"\n",
    "        \n",
    "        return self._db.loc[self._db['CarNumber'] == car_number].Name[0]"
   ]
  },
  {
   "cell_type": "code",
   "execution_count": 69,
   "metadata": {
    "colab": {
     "base_uri": "https://localhost:8080/",
     "height": 35
    },
    "colab_type": "code",
    "id": "7dpZlv0JvsEW",
    "outputId": "b82f77b8-4761-426e-b2df-d9eca901d0ee"
   },
   "outputs": [
    {
     "name": "stdout",
     "output_type": "stream",
     "text": [
      "Your teacher's name is Artiukh A.V. and his car number is ML 2019\n"
     ]
    }
   ],
   "source": [
    "teacher = Driver(\"Artiukh A.V.\", \"ML 2019\")\n",
    "print (\"Your teacher's name is {} and his car number is {}\"\n",
    "       .format(teacher.get_name(), teacher.get_car_number()))"
   ]
  },
  {
   "cell_type": "code",
   "execution_count": 70,
   "metadata": {
    "colab": {
     "base_uri": "https://localhost:8080/",
     "height": 35
    },
    "colab_type": "code",
    "id": "ZUvfWm5s7AwO",
    "outputId": "6963d2d7-2db0-4002-bc7e-8aa37a4e5646"
   },
   "outputs": [
    {
     "data": {
      "text/plain": [
       "'kharkiv_drivers'"
      ]
     },
     "execution_count": 70,
     "metadata": {},
     "output_type": "execute_result"
    }
   ],
   "source": [
    "kharkiv_drivers = DriversDB(\"kharkiv_drivers\")\n",
    "kharkiv_drivers.get_name()"
   ]
  },
  {
   "cell_type": "code",
   "execution_count": 71,
   "metadata": {
    "colab": {
     "base_uri": "https://localhost:8080/",
     "height": 53
    },
    "colab_type": "code",
    "id": "6cmsUuzJBZdj",
    "outputId": "70a6207e-6bd2-4cff-84ad-3e1ec23b5b6e"
   },
   "outputs": [
    {
     "name": "stdout",
     "output_type": "stream",
     "text": [
      "           Name CarNumber\n",
      "0  Artiukh A.V.   ML 2019\n"
     ]
    }
   ],
   "source": [
    "kharkiv_drivers.add(teacher)\n",
    "kharkiv_drivers.print_head()"
   ]
  },
  {
   "cell_type": "code",
   "execution_count": 72,
   "metadata": {
    "colab": {
     "base_uri": "https://localhost:8080/",
     "height": 71
    },
    "colab_type": "code",
    "id": "qZ1CHL-47HLU",
    "outputId": "5e6f3972-5586-43a4-cf09-6a17327854c0"
   },
   "outputs": [
    {
     "name": "stdout",
     "output_type": "stream",
     "text": [
      "Empty DataFrame\n",
      "Columns: [Name, CarNumber]\n",
      "Index: []\n"
     ]
    }
   ],
   "source": [
    "kharkiv_drivers.remove(teacher.get_name())\n",
    "kharkiv_drivers.print_head()"
   ]
  },
  {
   "cell_type": "code",
   "execution_count": 73,
   "metadata": {
    "colab": {},
    "colab_type": "code",
    "id": "GAQRq_M2-K_a"
   },
   "outputs": [],
   "source": [
    "student = Driver(\"Ivanov I.V.\", \"PM 2016\")\n",
    "kharkiv_drivers.add(teacher)\n",
    "kharkiv_drivers.add(student)\n",
    "kharkiv_drivers.save()"
   ]
  },
  {
   "cell_type": "code",
   "execution_count": 74,
   "metadata": {},
   "outputs": [
    {
     "name": "stdout",
     "output_type": "stream",
     "text": [
      "           Name CarNumber\n",
      "0  Artiukh A.V.   ML 2019\n",
      "1   Ivanov I.V.   PM 2016\n"
     ]
    }
   ],
   "source": [
    "kharkiv_drivers.print_head()"
   ]
  },
  {
   "cell_type": "code",
   "execution_count": 75,
   "metadata": {},
   "outputs": [],
   "source": [
    "kharkiv_drivers.drop()"
   ]
  },
  {
   "cell_type": "code",
   "execution_count": 76,
   "metadata": {},
   "outputs": [
    {
     "name": "stdout",
     "output_type": "stream",
     "text": [
      "Empty DataFrame\n",
      "Columns: [Name, CarNumber]\n",
      "Index: []\n"
     ]
    }
   ],
   "source": [
    "kharkiv_drivers.print_head()"
   ]
  },
  {
   "cell_type": "code",
   "execution_count": 77,
   "metadata": {},
   "outputs": [],
   "source": [
    "kharkiv_drivers.load()"
   ]
  },
  {
   "cell_type": "code",
   "execution_count": 78,
   "metadata": {},
   "outputs": [
    {
     "name": "stdout",
     "output_type": "stream",
     "text": [
      "           Name CarNumber\n",
      "0  Artiukh A.V.   ML 2019\n",
      "1   Ivanov I.V.   PM 2016\n"
     ]
    }
   ],
   "source": [
    "kharkiv_drivers.print_head()"
   ]
  },
  {
   "cell_type": "code",
   "execution_count": 79,
   "metadata": {},
   "outputs": [
    {
     "data": {
      "text/plain": [
       "'Artiukh A.V.'"
      ]
     },
     "execution_count": 79,
     "metadata": {},
     "output_type": "execute_result"
    }
   ],
   "source": [
    "kharkiv_drivers.find('ML 2019')"
   ]
  },
  {
   "cell_type": "code",
   "execution_count": null,
   "metadata": {},
   "outputs": [],
   "source": []
  }
 ],
 "metadata": {
  "colab": {
   "collapsed_sections": [],
   "name": "it-hello-python.ipynb",
   "provenance": [],
   "toc_visible": true,
   "version": "0.3.2"
  },
  "kernelspec": {
   "display_name": "Python 3",
   "language": "python",
   "name": "python3"
  },
  "language_info": {
   "codemirror_mode": {
    "name": "ipython",
    "version": 3
   },
   "file_extension": ".py",
   "mimetype": "text/x-python",
   "name": "python",
   "nbconvert_exporter": "python",
   "pygments_lexer": "ipython3",
   "version": "3.6.8"
  }
 },
 "nbformat": 4,
 "nbformat_minor": 1
}
